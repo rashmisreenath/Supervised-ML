{
 "cells": [
  {
   "cell_type": "markdown",
   "id": "5e29bba3",
   "metadata": {},
   "source": [
    "# Task-1 Graduate Rotational Internship Program (GRIP - APR 22) organised by The Sparks Foundation."
   ]
  },
  {
   "cell_type": "markdown",
   "id": "2dc5fef4",
   "metadata": {},
   "source": [
    "#### Author: Rashmi S (Intern APR 2022)"
   ]
  },
  {
   "cell_type": "markdown",
   "id": "40890097",
   "metadata": {},
   "source": [
    "## Aim - \n",
    "* To perform simple linear regression using supervised ML\n",
    "* To predict the score if a student studies for 9.25 hrs / day"
   ]
  },
  {
   "cell_type": "markdown",
   "id": "0ea92c17",
   "metadata": {},
   "source": [
    "# Step 1: Importing Libraries"
   ]
  },
  {
   "cell_type": "code",
   "execution_count": 65,
   "id": "1bf969e6",
   "metadata": {},
   "outputs": [],
   "source": [
    "import warnings\n",
    "warnings.filterwarnings(\"ignore\")\n",
    "\n",
    "import pandas as pd\n",
    "import numpy as np\n",
    "\n",
    "import seaborn as sns\n",
    "from sklearn.linear_model import LinearRegression\n",
    "from sklearn.model_selection import train_test_split\n",
    "from sklearn import metrics  \n",
    "from sklearn.metrics import mean_squared_error\n",
    "import matplotlib.pyplot as plt"
   ]
  },
  {
   "cell_type": "markdown",
   "id": "67563a49",
   "metadata": {},
   "source": [
    "# Step 2: Reading the dataset"
   ]
  },
  {
   "cell_type": "code",
   "execution_count": 9,
   "id": "b88053b4",
   "metadata": {
    "scrolled": true
   },
   "outputs": [
    {
     "data": {
      "application/vnd.jupyter.widget-view+json": {
       "model_id": "56d21e5252c14e36a80b494e0717ff46",
       "version_major": 2,
       "version_minor": 0
      },
      "text/plain": [
       "Button(description='Toggle Pandas/Lux', layout=Layout(top='5px', width='140px'), style=ButtonStyle())"
      ]
     },
     "metadata": {},
     "output_type": "display_data"
    },
    {
     "data": {
      "application/vnd.jupyter.widget-view+json": {
       "model_id": "ed4fb8cbff594260b8b49b82aef876a6",
       "version_major": 2,
       "version_minor": 0
      },
      "text/plain": [
       "Output()"
      ]
     },
     "metadata": {},
     "output_type": "display_data"
    }
   ],
   "source": [
    "data=pd.read_csv(\"http://bit.ly/w-data\")\n",
    "data.head(10)"
   ]
  },
  {
   "cell_type": "code",
   "execution_count": 17,
   "id": "e45b0470",
   "metadata": {},
   "outputs": [
    {
     "data": {
      "image/png": "[encoded data removed]",
      "text/plain": [
       "<Figure size 432x288 with 1 Axes>"
      ]
     },
     "metadata": {
      "needs_background": "light"
     },
     "output_type": "display_data"
    }
   ],
   "source": [
    "plt.scatter(data['Hours'],data['Scores'], label=\"Scores obtained\")\n",
    "plt.title(\"Hours v/s Scores\")\n",
    "plt.xlabel(\"Hours Studied\")\n",
    "plt.ylabel(\"Percentage Scored\")\n",
    "plt.grid()\n",
    "plt.legend()\n",
    "plt.show()"
   ]
  },
  {
   "cell_type": "code",
   "execution_count": 15,
   "id": "6b72170c",
   "metadata": {},
   "outputs": [
    {
     "data": {
      "image/png": "[encoded data removed]",
      "text/plain": [
       "<Figure size 432x288 with 2 Axes>"
      ]
     },
     "metadata": {
      "needs_background": "light"
     },
     "output_type": "display_data"
    }
   ],
   "source": [
    "ax = sns.heatmap(data.corr(), annot=True)"
   ]
  },
  {
   "cell_type": "markdown",
   "id": "986e5768",
   "metadata": {},
   "source": [
    "## Step 3: Data Preprocessing "
   ]
  },
  {
   "cell_type": "code",
   "execution_count": 9,
   "id": "7ba24ed9",
   "metadata": {},
   "outputs": [
    {
     "data": {
      "text/plain": [
       "Hours     0\n",
       "Scores    0\n",
       "dtype: int64"
      ]
     },
     "execution_count": 9,
     "metadata": {},
     "output_type": "execute_result"
    }
   ],
   "source": [
    "# to check the missing values\n",
    "data.isnull().sum()"
   ]
  },
  {
   "cell_type": "code",
   "execution_count": 10,
   "id": "88158bc0",
   "metadata": {},
   "outputs": [
    {
     "data": {
      "text/html": [
       "<div>\n",
       "<style scoped>\n",
       "    .dataframe tbody tr th:only-of-type {\n",
       "        vertical-align: middle;\n",
       "    }\n",
       "\n",
       "    .dataframe tbody tr th {\n",
       "        vertical-align: top;\n",
       "    }\n",
       "\n",
       "    .dataframe thead th {\n",
       "        text-align: right;\n",
       "    }\n",
       "</style>\n",
       "<table border=\"1\" class=\"dataframe\">\n",
       "  <thead>\n",
       "    <tr style=\"text-align: right;\">\n",
       "      <th></th>\n",
       "      <th>Hours</th>\n",
       "      <th>Scores</th>\n",
       "    </tr>\n",
       "  </thead>\n",
       "  <tbody>\n",
       "    <tr>\n",
       "      <th>count</th>\n",
       "      <td>25.000000</td>\n",
       "      <td>25.000000</td>\n",
       "    </tr>\n",
       "    <tr>\n",
       "      <th>mean</th>\n",
       "      <td>5.012000</td>\n",
       "      <td>51.480000</td>\n",
       "    </tr>\n",
       "    <tr>\n",
       "      <th>std</th>\n",
       "      <td>2.525094</td>\n",
       "      <td>25.286887</td>\n",
       "    </tr>\n",
       "    <tr>\n",
       "      <th>min</th>\n",
       "      <td>1.100000</td>\n",
       "      <td>17.000000</td>\n",
       "    </tr>\n",
       "    <tr>\n",
       "      <th>25%</th>\n",
       "      <td>2.700000</td>\n",
       "      <td>30.000000</td>\n",
       "    </tr>\n",
       "    <tr>\n",
       "      <th>50%</th>\n",
       "      <td>4.800000</td>\n",
       "      <td>47.000000</td>\n",
       "    </tr>\n",
       "    <tr>\n",
       "      <th>75%</th>\n",
       "      <td>7.400000</td>\n",
       "      <td>75.000000</td>\n",
       "    </tr>\n",
       "    <tr>\n",
       "      <th>max</th>\n",
       "      <td>9.200000</td>\n",
       "      <td>95.000000</td>\n",
       "    </tr>\n",
       "  </tbody>\n",
       "</table>\n",
       "</div>"
      ],
      "text/plain": [
       "           Hours     Scores\n",
       "count  25.000000  25.000000\n",
       "mean    5.012000  51.480000\n",
       "std     2.525094  25.286887\n",
       "min     1.100000  17.000000\n",
       "25%     2.700000  30.000000\n",
       "50%     4.800000  47.000000\n",
       "75%     7.400000  75.000000\n",
       "max     9.200000  95.000000"
      ]
     },
     "execution_count": 10,
     "metadata": {},
     "output_type": "execute_result"
    }
   ],
   "source": [
    "data.describe()"
   ]
  },
  {
   "cell_type": "code",
   "execution_count": 11,
   "id": "e467dbae",
   "metadata": {},
   "outputs": [
    {
     "name": "stdout",
     "output_type": "stream",
     "text": [
      "<class 'pandas.core.frame.DataFrame'>\n",
      "RangeIndex: 25 entries, 0 to 24\n",
      "Data columns (total 2 columns):\n",
      " #   Column  Non-Null Count  Dtype  \n",
      "---  ------  --------------  -----  \n",
      " 0   Hours   25 non-null     float64\n",
      " 1   Scores  25 non-null     int64  \n",
      "dtypes: float64(1), int64(1)\n",
      "memory usage: 528.0 bytes\n"
     ]
    }
   ],
   "source": [
    "data.info()"
   ]
  },
  {
   "cell_type": "code",
   "execution_count": 17,
   "id": "f18f86ed",
   "metadata": {},
   "outputs": [
    {
     "data": {
      "text/plain": [
       "(25, 2)"
      ]
     },
     "execution_count": 17,
     "metadata": {},
     "output_type": "execute_result"
    }
   ],
   "source": [
    "data.shape"
   ]
  },
  {
   "cell_type": "markdown",
   "id": "f4abd5d2",
   "metadata": {},
   "source": [
    "# Step 4: Setting up of Dependent and Independent Variables"
   ]
  },
  {
   "cell_type": "code",
   "execution_count": 19,
   "id": "cd241de8",
   "metadata": {},
   "outputs": [],
   "source": [
    "x= data['Hours']\n",
    "y= data[\"Scores\"]\n",
    "# reshaping of the data\n",
    "x=x.values.reshape(len(x),1)\n",
    "y=y.values.reshape(len(y),1)\n"
   ]
  },
  {
   "cell_type": "markdown",
   "id": "7702403a",
   "metadata": {},
   "source": [
    "# Step 5: Building Model"
   ]
  },
  {
   "cell_type": "code",
   "execution_count": 34,
   "id": "ddecfe38",
   "metadata": {},
   "outputs": [],
   "source": [
    "# splitting the data into train and test \n",
    "\n",
    "x_train, x_test, y_train, y_test =train_test_split(x,y,test_size=0.1,random_state=0)  # 80/20 rule ,train set will take 80% data and test set will take 20% of the data \n"
   ]
  },
  {
   "cell_type": "code",
   "execution_count": 35,
   "id": "9d1858f6",
   "metadata": {},
   "outputs": [
    {
     "data": {
      "text/plain": [
       "((22, 1), (22, 1))"
      ]
     },
     "execution_count": 35,
     "metadata": {},
     "output_type": "execute_result"
    }
   ],
   "source": [
    "x_train.shape, y_train.shape"
   ]
  },
  {
   "cell_type": "code",
   "execution_count": 36,
   "id": "8baacacc",
   "metadata": {},
   "outputs": [
    {
     "data": {
      "text/plain": [
       "((3, 1), (3, 1))"
      ]
     },
     "execution_count": 36,
     "metadata": {},
     "output_type": "execute_result"
    }
   ],
   "source": [
    "x_test.shape, y_test.shape"
   ]
  },
  {
   "cell_type": "code",
   "execution_count": 37,
   "id": "53656c73",
   "metadata": {},
   "outputs": [
    {
     "data": {
      "text/plain": [
       "LinearRegression()"
      ]
     },
     "execution_count": 37,
     "metadata": {},
     "output_type": "execute_result"
    }
   ],
   "source": [
    "model=LinearRegression()\n",
    "model.fit(x_train, y_train)"
   ]
  },
  {
   "cell_type": "code",
   "execution_count": 60,
   "id": "c4f20cab",
   "metadata": {},
   "outputs": [
    {
     "data": {
      "text/plain": [
       "array([[9.85475541]])"
      ]
     },
     "execution_count": 60,
     "metadata": {},
     "output_type": "execute_result"
    }
   ],
   "source": [
    "model.coef_"
   ]
  },
  {
   "cell_type": "code",
   "execution_count": 61,
   "id": "f8481207",
   "metadata": {},
   "outputs": [
    {
     "data": {
      "text/plain": [
       "array([2.52007671])"
      ]
     },
     "execution_count": 61,
     "metadata": {},
     "output_type": "execute_result"
    }
   ],
   "source": [
    "model.intercept_"
   ]
  },
  {
   "cell_type": "code",
   "execution_count": 38,
   "id": "fe1edeed",
   "metadata": {},
   "outputs": [
    {
     "name": "stdout",
     "output_type": "stream",
     "text": [
      "           0\n",
      "0  17.302210\n",
      "1  34.055294\n",
      "2  75.445267\n"
     ]
    }
   ],
   "source": [
    "y_predicted_test=model.predict(x_test)\n",
    "y_predicted_train = model.predict(x_train)\n",
    "print(pd.DataFrame(y_predicted_test))"
   ]
  },
  {
   "cell_type": "code",
   "execution_count": 41,
   "id": "519f7f8a",
   "metadata": {},
   "outputs": [
    {
     "data": {
      "image/png": "[encoded data removed]",
      "text/plain": [
       "<Figure size 432x288 with 1 Axes>"
      ]
     },
     "metadata": {
      "needs_background": "light"
     },
     "output_type": "display_data"
    }
   ],
   "source": [
    "#Predicted V/s Actual Score for Test Hours\n",
    "\n",
    "plt.scatter(x_test,y_test,label = 'Actual Values')\n",
    "plt.scatter(x_test,y_predicted_test,label= 'Predicted values')\n",
    "plt.plot(x_test,y_predicted_test,'--g',label='Line Of Regression')\n",
    "\n",
    "plt.title('Predicted V/s Actual Score for Test Hours')  \n",
    "plt.xlabel('Hours Studied')  \n",
    "plt.ylabel('Percentage Score')\n",
    "\n",
    "plt.legend()\n",
    "plt.grid()\n",
    "plt.show()"
   ]
  },
  {
   "cell_type": "code",
   "execution_count": null,
   "id": "f5767e99",
   "metadata": {},
   "outputs": [],
   "source": [
    "# Error is very high, hence to increase accuracy we have to optimize our graph"
   ]
  },
  {
   "cell_type": "code",
   "execution_count": 43,
   "id": "672b2500",
   "metadata": {},
   "outputs": [
    {
     "data": {
      "image/png": "[encoded data removed]",
      "text/plain": [
       "<Figure size 432x288 with 1 Axes>"
      ]
     },
     "metadata": {
      "needs_background": "light"
     },
     "output_type": "display_data"
    }
   ],
   "source": [
    "plt.scatter(x_train,y_train,label = 'Actual Values')\n",
    "plt.scatter(x_train,y_predicted_train,label= 'Predicted values')\n",
    "plt.plot(x_train,y_predicted_train,'--g',label='Line Of Regression')\n",
    "\n",
    "plt.title('Predicted V/s Actual Score for Train Hours')  \n",
    "plt.xlabel('Hours Studied')  \n",
    "plt.ylabel('Percentage Score')\n",
    "\n",
    "plt.legend()\n",
    "plt.grid()\n",
    "plt.show()"
   ]
  },
  {
   "cell_type": "code",
   "execution_count": 71,
   "id": "8401717a",
   "metadata": {},
   "outputs": [
    {
     "name": "stdout",
     "output_type": "stream",
     "text": [
      "Mean Squared Error: 5.732850045774972\n"
     ]
    }
   ],
   "source": [
    "print(\"Mean Squared Error:\",\n",
    "      mean_squared_error(y_test, y_predicted_test,squared=False))\n"
   ]
  },
  {
   "cell_type": "code",
   "execution_count": 44,
   "id": "2137a18e",
   "metadata": {},
   "outputs": [
    {
     "name": "stdout",
     "output_type": "stream",
     "text": [
      "Accuracy of the model was found to be : 0.9298077534821835\n"
     ]
    }
   ],
   "source": [
    "accuracy= model.score(x_test, y_test)\n",
    "print(\"Accuracy of the model was found to be :\", accuracy)"
   ]
  },
  {
   "cell_type": "markdown",
   "id": "6d39e474",
   "metadata": {},
   "source": [
    "# Step 6: Optimizing the accuracy"
   ]
  },
  {
   "cell_type": "code",
   "execution_count": null,
   "id": "8240a008",
   "metadata": {},
   "outputs": [],
   "source": [
    "# to change random seed and check accuracy"
   ]
  },
  {
   "cell_type": "code",
   "execution_count": 49,
   "id": "62c72f52",
   "metadata": {},
   "outputs": [
    {
     "data": {
      "text/plain": [
       "[0.9298077534821835,\n",
       " 0.6041054928963656,\n",
       " -1.4225903447212924,\n",
       " 0.9327813663954249,\n",
       " 0.8405585799004379,\n",
       " 0.9025194047306003,\n",
       " 0.9459052529599732,\n",
       " 0.9544952944382422,\n",
       " 0.9381449038927532,\n",
       " -0.5330400581613686,\n",
       " 0.7553317386299322,\n",
       " 0.46750459617597695,\n",
       " -0.6367753292949814,\n",
       " 0.8999033015656035,\n",
       " 0.8453088467919847,\n",
       " -1.6350288730151186,\n",
       " 0.7400383032083478,\n",
       " 0.945443925400551,\n",
       " 0.9729956983026026,\n",
       " -0.1564808132447597,\n",
       " 0.8493620117021918,\n",
       " 0.6847148833734545,\n",
       " 0.69012001823611,\n",
       " 0.9801342719762446,\n",
       " 0.9702820274629472,\n",
       " -16.011152727976768,\n",
       " 0.9514975041111625,\n",
       " 0.9400898178018178,\n",
       " 0.951498364099847,\n",
       " 0.9368443486474068,\n",
       " 0.938875663630763,\n",
       " 0.9689202135778109,\n",
       " 0.3228704113881189,\n",
       " 0.9528473689506218,\n",
       " 0.9528473689506218,\n",
       " 0.8976193140151,\n",
       " -0.2555184107568076,\n",
       " 0.9764246161290429,\n",
       " 0.9216866523682254,\n",
       " 0.9559818106352874,\n",
       " 0.9609220899987835,\n",
       " 0.9497259731613219,\n",
       " 0.974047128713709,\n",
       " 0.9713875893742198,\n",
       " 0.9068477270479203,\n",
       " 0.08015258045624807,\n",
       " 0.8369747552485849,\n",
       " 0.9668067680833099,\n",
       " 0.6187879582863038,\n",
       " 0.9470807304391126,\n",
       " 0.9538882974472567,\n",
       " 0.5201817426308807,\n",
       " 0.9420643719167143,\n",
       " 0.7070549149380161,\n",
       " 0.9479921999963231,\n",
       " 0.9540859433297648,\n",
       " 0.9182049732059703,\n",
       " 0.8755019150920691,\n",
       " 0.8157578608555918,\n",
       " 0.9731622100355664,\n",
       " 0.9732348970328351,\n",
       " 0.9860100188920575,\n",
       " 0.971370590167062,\n",
       " 0.946291051395361,\n",
       " 0.09383004501774261,\n",
       " 0.9543663277615319,\n",
       " 0.8464693159452481,\n",
       " -1.4225903447212924,\n",
       " 0.9320083539418521,\n",
       " 0.9257646153351985,\n",
       " 0.9237868181536152,\n",
       " 0.949551791982203,\n",
       " 0.9788178000936709,\n",
       " 0.9376132278339139,\n",
       " 0.9608085676011068,\n",
       " 0.528627477734062,\n",
       " 0.9711532116082318,\n",
       " 0.9448459602333187,\n",
       " 0.9214757975236358,\n",
       " 0.9211665192218189,\n",
       " 0.8158160879812848,\n",
       " 0.8950532526578502,\n",
       " 0.9864425909598109,\n",
       " 0.9650978596700329,\n",
       " 0.8457847526398197,\n",
       " 0.921562353266619,\n",
       " 0.9343192989397174,\n",
       " 0.9030739601015629,\n",
       " 0.8165482730971225,\n",
       " 0.823656756544845,\n",
       " 0.5983952600164187,\n",
       " 0.744291262115416,\n",
       " 0.5064319438847289,\n",
       " 0.9660697340794213,\n",
       " 0.8434455965187424,\n",
       " 0.8665046706847689,\n",
       " 0.968081350680494,\n",
       " 0.9171884924962991,\n",
       " 0.8902564760471572,\n",
       " 0.9516602206988007,\n",
       " 0.38767411228907245,\n",
       " 0.9508624143433742,\n",
       " 0.8178352383282874,\n",
       " 0.9686709394820198,\n",
       " 0.9150177533764449,\n",
       " 0.9192633516543656,\n",
       " 0.9687319930419875,\n",
       " 0.6528567662393732,\n",
       " 0.7065311627435119,\n",
       " 0.9180359995936239,\n",
       " 0.8592764224519237,\n",
       " 0.9046162819022415,\n",
       " 0.6231886356242229,\n",
       " -5.507674555206273,\n",
       " 0.9323346274373169,\n",
       " 0.9703028677641727,\n",
       " -2.6334770128431892,\n",
       " 0.9086810708594487,\n",
       " 0.9735939970705615,\n",
       " 0.901043644197169,\n",
       " 0.8297691814294009,\n",
       " 0.927907077731861,\n",
       " 0.960657213125946,\n",
       " 0.9103340582683856,\n",
       " 0.8263398457667558,\n",
       " 0.9786677849338347,\n",
       " 0.960967010410749,\n",
       " 0.9814832840667286,\n",
       " 0.8271815859715925,\n",
       " 0.9489195629672946,\n",
       " 0.9006287643594686,\n",
       " 0.9737202878144063,\n",
       " 0.9128220926754929,\n",
       " 0.9606744999890465,\n",
       " 0.7983099516670787,\n",
       " 0.950902630447734,\n",
       " 0.9350039004746766,\n",
       " 0.8457847526398202,\n",
       " 0.7442912621154167,\n",
       " 0.5201817426308807,\n",
       " 0.07398204921228191,\n",
       " 0.9345221529314309,\n",
       " 0.950521555283656,\n",
       " 0.8395344387396837,\n",
       " 0.8924808176164655,\n",
       " 0.8754275659681797,\n",
       " 0.9299696881192815,\n",
       " 0.8920749966125546,\n",
       " 0.597321404944582,\n",
       " 0.9432853806780854,\n",
       " -0.5673248262206028,\n",
       " -0.0093803757956743,\n",
       " 0.9634101059435911,\n",
       " 0.9629123097156442,\n",
       " 0.5621134187380887,\n",
       " 0.9528834529626595,\n",
       " 0.9826373638517691,\n",
       " 0.7850401143010245,\n",
       " 0.9282933495769147,\n",
       " 0.8953296098106277,\n",
       " 0.9646319907453713,\n",
       " 0.5599474232335825,\n",
       " 0.9414010783511295,\n",
       " 0.9452645267209264,\n",
       " 0.9518931307791743,\n",
       " 0.5952363869787338,\n",
       " 0.8951260057885877,\n",
       " 0.9631810952083867,\n",
       " -0.548926272606453,\n",
       " 0.9555100342123286,\n",
       " 0.9288126328735339,\n",
       " 0.951448246175809,\n",
       " 0.9588640290777344,\n",
       " 0.9423825090927336,\n",
       " 0.815517619474634,\n",
       " 0.9415988964419572,\n",
       " 0.7959963379063342,\n",
       " 0.9723863140543657,\n",
       " 0.9860100188920574,\n",
       " 0.9376634436376396,\n",
       " 0.9616453551825158,\n",
       " 0.9579050996587759,\n",
       " 0.9236680891625126,\n",
       " 0.9312088565920069,\n",
       " 0.9578325217078268,\n",
       " 0.9548636992238918,\n",
       " 0.9727282242813942,\n",
       " 0.87689794399699,\n",
       " 0.9391751374447058,\n",
       " 0.9090553672946267,\n",
       " 0.7070549149380151,\n",
       " 0.952251221532897,\n",
       " 0.8548774409376056,\n",
       " 0.8847842523920381,\n",
       " 0.6989012595165842,\n",
       " 0.9724001132045781,\n",
       " 0.2900785508566752,\n",
       " 0.827556870597286,\n",
       " 0.8395344387396839,\n",
       " 0.9582244989549916,\n",
       " 0.869011355790064,\n",
       " 0.9146014959592143,\n",
       " 0.941435840878959,\n",
       " 0.8369747552485847,\n",
       " 0.9143139732084995,\n",
       " -2.0841021818031553,\n",
       " 0.9518889002024615,\n",
       " 0.8929475877389585,\n",
       " 0.7268760907586743,\n",
       " 0.9414358408789589,\n",
       " 0.9724275460655344,\n",
       " 0.9528477757442694,\n",
       " 0.6330278857359767,\n",
       " 0.9846083497220723,\n",
       " 0.9275628480416545,\n",
       " 0.9250785644543885,\n",
       " 0.8964936780067383,\n",
       " 0.4282543892917926,\n",
       " 0.8454182173112496,\n",
       " 0.5901968925553334,\n",
       " 0.8095654670538106,\n",
       " 0.962797013860988,\n",
       " 0.7872426261063722,\n",
       " 0.9615671870362832,\n",
       " 0.9333606473821082,\n",
       " 0.8224051935971082,\n",
       " 0.8871438271067198,\n",
       " -0.046292286272082706,\n",
       " 0.9505049237163755,\n",
       " 0.9523709277346674,\n",
       " 0.8420625721553879,\n",
       " 0.7999164126782912,\n",
       " 0.9735939970705617,\n",
       " 0.49027778983895665,\n",
       " 0.9461033162035133,\n",
       " 0.9358416105538061,\n",
       " 0.9020669662760143,\n",
       " 0.550308365815152,\n",
       " 0.945443925400551,\n",
       " 0.967235083364953,\n",
       " 0.6520430611697676,\n",
       " 0.9302101597138406,\n",
       " 0.9530358530423175,\n",
       " 0.9629243596067644,\n",
       " 0.9312088565920069,\n",
       " 0.9443947801252744,\n",
       " 0.9523869240702564,\n",
       " 0.6403032871177232,\n",
       " 0.9545345165541393,\n",
       " 0.9554199633649927,\n",
       " 0.9017765359212708,\n",
       " 0.9416061260280568,\n",
       " 0.8877289207922143,\n",
       " 0.912191966107422,\n",
       " -1.1763118020817194,\n",
       " 0.8879529025807333,\n",
       " 0.9001552150278912,\n",
       " 0.9526710494331176,\n",
       " 0.9321960134619203,\n",
       " 0.8989867890098225,\n",
       " 0.8296352085756837,\n",
       " 0.9576058031062876,\n",
       " 0.9144946492309589,\n",
       " 0.9495691277910328,\n",
       " 0.9630191425126446,\n",
       " 0.9351064351545704,\n",
       " 0.9814728092404255,\n",
       " 0.9461158936127615,\n",
       " 0.7648592017894384,\n",
       " 0.9433563626653362,\n",
       " 0.8842732765443739,\n",
       " -0.8117753024646059,\n",
       " 0.9683223821510939,\n",
       " 0.7917849603951486,\n",
       " 0.975711107624362,\n",
       " 0.9176203958075466,\n",
       " -0.4587587304757428,\n",
       " 0.9770758443393304,\n",
       " 0.9305551683791601,\n",
       " 0.9131855889696547,\n",
       " -2.247126168453054,\n",
       " 0.9233095976352943,\n",
       " 0.9180359995936238,\n",
       " -0.5489262726064528,\n",
       " 0.8774107568166215,\n",
       " 0.9410020820656223,\n",
       " 0.9425268450262947,\n",
       " 0.9528291992569929,\n",
       " 0.172096337402464,\n",
       " 0.9601371320879643,\n",
       " 0.9548636992238917,\n",
       " 0.9249294533202056,\n",
       " 0.8912990223064428,\n",
       " 0.9280061747910308,\n",
       " 0.8458874156068656,\n",
       " 0.8744197170714457,\n",
       " 0.9703192110396334,\n",
       " 0.9570188405953736,\n",
       " 0.9700156404108291,\n",
       " 0.9519717503623155,\n",
       " 0.8053241747243247,\n",
       " 0.9151676577567134,\n",
       " 0.8949003108909475,\n",
       " 0.852637210582335,\n",
       " 0.8275046167666837,\n",
       " 0.02094255478157725,\n",
       " 0.974682633401963,\n",
       " 0.4025811978778663,\n",
       " 0.8995838701917506,\n",
       " 0.9668067680833099,\n",
       " 0.919472648604227,\n",
       " 0.9473790028853399,\n",
       " 0.953999478754162,\n",
       " 0.4282543892917914,\n",
       " 0.851130450748834,\n",
       " 0.9281941625946061,\n",
       " 0.8656003059337282,\n",
       " 0.6675350421399694,\n",
       " 0.9630191425126445,\n",
       " 0.9129930034380895,\n",
       " 0.8749932918985655,\n",
       " 0.32287041138811745,\n",
       " 0.9177889805144324,\n",
       " 0.9565454222671176,\n",
       " 0.639136601680381,\n",
       " 0.952448244749886,\n",
       " 0.8495040821734496,\n",
       " 0.9535555885277693,\n",
       " 0.9608371173021626,\n",
       " 0.9637890623500134,\n",
       " -2.0841021818031553,\n",
       " 0.9415348535110482,\n",
       " 0.5289794710950051,\n",
       " 0.9528291992569927,\n",
       " -2.081426186050562,\n",
       " 0.8369747552485851,\n",
       " 0.9445666146077679,\n",
       " 0.8189959695301623,\n",
       " 0.9471504318491852,\n",
       " 0.9746384357601722,\n",
       " 0.9428705940331379,\n",
       " 0.9444534094445187,\n",
       " 0.02148802997936683,\n",
       " 0.9686709394820199,\n",
       " 0.6677782896826334,\n",
       " 0.06836974579927368,\n",
       " 0.877127969904498,\n",
       " 0.9566648586558175,\n",
       " 0.9303697464835939,\n",
       " 0.8641797647966387,\n",
       " 0.9575446937469086,\n",
       " 0.9634664303173015,\n",
       " 0.7355516963032431,\n",
       " 0.9530654233273513,\n",
       " 0.8441104922642343,\n",
       " 0.7420085210948826,\n",
       " 0.6403032871177233,\n",
       " 0.9410020820656223,\n",
       " 0.8301734883323176,\n",
       " 0.9322983828961547,\n",
       " 0.9224104599013111,\n",
       " 0.8530800829392402,\n",
       " 0.8418870938462664,\n",
       " 0.9437911374686684,\n",
       " 0.3513851613678254,\n",
       " 0.9537190721263248,\n",
       " 0.911508037671943,\n",
       " 0.8197723945953836,\n",
       " 0.8803337352706763,\n",
       " 0.9551521691439417,\n",
       " 0.8351558275917794,\n",
       " 0.946479282222609,\n",
       " 0.8627319655006384,\n",
       " -2.6055389052979447,\n",
       " 0.946291051395361,\n",
       " 0.8639009636073558,\n",
       " 0.8478049744955816,\n",
       " 0.9623554045345628,\n",
       " 0.6268684721120281,\n",
       " 0.777237840484707,\n",
       " 0.9544007884747142,\n",
       " 0.4560200562802348,\n",
       " 0.9844964536270708,\n",
       " 0.9530281500428349,\n",
       " 0.96234710929098,\n",
       " 0.8629129357307467,\n",
       " 0.9783079364053364,\n",
       " 0.29007855085667666,\n",
       " 0.9540593094027083,\n",
       " 0.9241209779938164,\n",
       " 0.7761120321603009,\n",
       " 0.9474236185084067,\n",
       " 0.9717018109854758,\n",
       " 0.9619236488927202,\n",
       " 0.6276801872978711,\n",
       " 0.9490308541746524,\n",
       " 0.9220917488500918,\n",
       " 0.5935610537144405,\n",
       " 0.7892811464428658,\n",
       " 0.9305910014001103,\n",
       " 0.9649805545241541,\n",
       " 0.9170079518107058,\n",
       " 0.9282397248381348,\n",
       " 0.009415058447777791,\n",
       " 0.940298743813118,\n",
       " 0.9759619200074597,\n",
       " 0.9467586879989252,\n",
       " 0.6433822671955647,\n",
       " 0.9369375511884124,\n",
       " 0.8968215824136073,\n",
       " 0.8357618176841147,\n",
       " 0.8014278805108327,\n",
       " 0.9606511456550147,\n",
       " 0.8871958773144508,\n",
       " 0.9035809160468233,\n",
       " 0.9479921999963231,\n",
       " 0.9470164826992764,\n",
       " 0.9537190721263248,\n",
       " 0.6525745191753671,\n",
       " 0.9305551683791602,\n",
       " 0.7382677096238712,\n",
       " 0.6362791479945091,\n",
       " 0.9671731561574639,\n",
       " 0.864259429152575,\n",
       " 0.948919562967295,\n",
       " 0.40632734940673754,\n",
       " 0.15956275373239281,\n",
       " 0.9383415758925423,\n",
       " 0.9488050039475019,\n",
       " 0.9714594443271056,\n",
       " 0.917476248160903,\n",
       " 0.942881463813362,\n",
       " 0.7320982538687814,\n",
       " 0.8218197726855703,\n",
       " 0.6964122263759907,\n",
       " 0.9546424931443378,\n",
       " 0.8450433243961708,\n",
       " 0.5452213550682905,\n",
       " 0.9634950207606551,\n",
       " -0.2131435151763199,\n",
       " 0.9714096567806726,\n",
       " 0.947218758988443,\n",
       " 0.6745041094233126,\n",
       " 0.8991302639951888,\n",
       " 0.8185735796555627,\n",
       " 0.9281941625946061,\n",
       " 0.8370283619357306,\n",
       " 0.9763819252510992,\n",
       " 0.9286423198145455,\n",
       " 0.9290554456477258,\n",
       " 0.9313513974780789,\n",
       " 0.9303697464835937,\n",
       " 0.9518931307791741,\n",
       " 0.7917475459030565,\n",
       " 0.9652309158515869,\n",
       " 0.928794440352484,\n",
       " -0.08638179949865399,\n",
       " 0.885465885157853,\n",
       " -1.1522840796661469,\n",
       " 0.6391027785552639,\n",
       " 0.9363470736369766,\n",
       " 0.32930504158010054,\n",
       " 0.5983952600164192,\n",
       " 0.9700156404108291,\n",
       " 0.9703210670575693,\n",
       " 0.9424763876392843,\n",
       " 0.9569061778299636,\n",
       " 0.8739179682622198,\n",
       " 0.9764634573170646,\n",
       " 0.9585926948522865,\n",
       " 0.9400749911179268,\n",
       " 0.8840753051843251,\n",
       " 0.8447123559388704,\n",
       " 0.9316979821749776,\n",
       " -1.4485165015710235,\n",
       " 0.9064494462014407,\n",
       " 0.9448967333443425,\n",
       " 0.9615671870362833,\n",
       " 0.9293268753534953,\n",
       " 0.8705308214074905,\n",
       " -0.40383523960466405,\n",
       " 0.9455240180643243,\n",
       " 0.3513851613678266,\n",
       " 0.875158859989093,\n",
       " 0.8088829308294576,\n",
       " 0.8820048429873026,\n",
       " 0.8885390786366509,\n",
       " 0.5893336224595126,\n",
       " 0.9724001132045782,\n",
       " 0.974047128713709,\n",
       " 0.9710224836484231,\n",
       " 0.9312088565920068,\n",
       " 0.9716330286924346,\n",
       " 0.973974456574966,\n",
       " 0.9670989712897545,\n",
       " 0.8168731185333853,\n",
       " 0.9667695853006621,\n",
       " 0.925290699712602,\n",
       " 0.8849132695968276,\n",
       " 0.05406462366401721,\n",
       " 0.9322788115193511,\n",
       " 0.9684158785720804,\n",
       " -3.0492533485590476,\n",
       " 0.9234069168612333,\n",
       " 0.9321960134619203,\n",
       " 0.9535555885277693,\n",
       " 0.20380823242705415,\n",
       " 0.9045661580705183,\n",
       " 0.9634664303173015,\n",
       " 0.987858669142552,\n",
       " 0.8849132695968281,\n",
       " 0.9208104431080087,\n",
       " 0.9609701526925963,\n",
       " 0.8901152411119809,\n",
       " 0.9449029385548176,\n",
       " 0.6622202584155689,\n",
       " 0.3355199279175294,\n",
       " 0.9156580554379061,\n",
       " -2.7336482892756853,\n",
       " 0.9209710596546005,\n",
       " -0.35011800205177535,\n",
       " -1.1634837545825851,\n",
       " 0.9144995976115281,\n",
       " 0.6830294250167395,\n",
       " 0.9821043564799737,\n",
       " 0.9324051493692842,\n",
       " 0.9245727299392135,\n",
       " 0.31515827660786655,\n",
       " 0.9461158936127615,\n",
       " 0.8014113243732774,\n",
       " 0.9340778895086279,\n",
       " 0.5433535425343696,\n",
       " 0.09383004501775027,\n",
       " 0.9734863411811666,\n",
       " 0.0,\n",
       " 0.778795733063151,\n",
       " 0.981607671105299,\n",
       " 0.9209078820185432,\n",
       " 0.8190829693088482,\n",
       " 0.9568383363933635,\n",
       " 0.8729043987538553,\n",
       " 0.9487647468704087,\n",
       " 0.9653009270039157,\n",
       " -3.0492533485590387,\n",
       " 0.9650978596700329,\n",
       " 0.6275540445441175,\n",
       " 0.8964936780067381,\n",
       " 0.9770285349850019,\n",
       " 0.926351640753609,\n",
       " 0.9818765486194924,\n",
       " 0.9541666093912875,\n",
       " 0.9074608395015422,\n",
       " 0.9269499991859222,\n",
       " -3.9068018385009715,\n",
       " 0.9788042791962406,\n",
       " 0.9484547315114455,\n",
       " 0.9734581285855546,\n",
       " 0.9734581285855547,\n",
       " 0.9299696881192816,\n",
       " 0.9549510948983981,\n",
       " 0.893020401494795,\n",
       " 0.9717018109854759,\n",
       " 0.9443947801252744,\n",
       " 0.9101169321954127,\n",
       " 0.9346505409825465,\n",
       " 0.7426233390629877,\n",
       " 0.6528567662393736,\n",
       " 0.9631810952083867,\n",
       " 0.9285591264125215,\n",
       " 0.3246248484204214,\n",
       " 0.6391366016803792,\n",
       " 0.9826485083915267,\n",
       " 0.9368829489017452,\n",
       " 0.9221637849277747,\n",
       " 0.9477420983996195,\n",
       " 0.9515091377738124,\n",
       " 0.6808540029900569,\n",
       " 0.885617050793931,\n",
       " -1.0556354419615355,\n",
       " 0.9764898695638415,\n",
       " 0.9030739601015629,\n",
       " 0.9208762003093712,\n",
       " 0.8950532526578502,\n",
       " 0.7765547299133579,\n",
       " 0.6860957386591497,\n",
       " 0.6403262497042688,\n",
       " 0.9145101292976279,\n",
       " 0.8727915326815567,\n",
       " -0.3736599913958316,\n",
       " 0.8187207385339309,\n",
       " 0.8071205387855179,\n",
       " 0.903580916046823,\n",
       " 0.7589521229911709,\n",
       " 0.8823673776684846,\n",
       " 0.9816259435195295,\n",
       " 0.9679320366261233,\n",
       " 0.9303795180191904,\n",
       " 0.9774487503278222,\n",
       " 0.8958771315457614,\n",
       " 0.853080082939241,\n",
       " 0.9726313859669501,\n",
       " 0.9620175814195587,\n",
       " 0.9370427341351983,\n",
       " 0.9634664303173015,\n",
       " 0.8032710105786466,\n",
       " 0.9531837638391991,\n",
       " 0.9295403093480099,\n",
       " 0.840558579900438,\n",
       " 0.9654182759306535,\n",
       " 0.9444374218277102,\n",
       " -1.4199724771134177,\n",
       " 0.9466222828710888,\n",
       " 0.8429159375175153,\n",
       " 0.9292621335825224,\n",
       " 0.8953296098106274,\n",
       " -0.40383523960466916,\n",
       " 0.8655046987083947,\n",
       " 0.9305551683791604,\n",
       " 0.9294114672479283,\n",
       " 0.9615671870362834,\n",
       " 0.8909833684971653,\n",
       " 0.9287944403524839,\n",
       " 0.9316234016001123,\n",
       " 0.9673113242364701,\n",
       " 0.8826595616777984,\n",
       " 0.927923558981669,\n",
       " 0.8900265642885196,\n",
       " 0.8919349260764812,\n",
       " 0.951498364099847,\n",
       " 0.9696787087493702,\n",
       " 0.9351064351545701,\n",
       " 0.5122311886421299,\n",
       " -2.031427816564363,\n",
       " 0.9514271126386971,\n",
       " 0.9220838925383872,\n",
       " 0.9331047047201152,\n",
       " 0.6205015669674752,\n",
       " 0.9578325217078268,\n",
       " 0.9434260644981505,\n",
       " 0.8105228704682049,\n",
       " 0.791686577187759,\n",
       " 0.8415988054446775,\n",
       " 0.9241271841425845,\n",
       " 0.9608183508852656,\n",
       " 0.9509839392796793,\n",
       " 0.9449125659311183,\n",
       " 0.6118397457248276,\n",
       " 0.8803337352706763,\n",
       " 0.8831431410021833,\n",
       " 0.8718228447859263,\n",
       " 0.7748598965756137,\n",
       " 0.9530654233273513,\n",
       " 0.9522450422991154,\n",
       " 0.9135109714232443,\n",
       " 0.3693339147382523,\n",
       " 0.9575939289416704,\n",
       " -0.44963442631372996,\n",
       " 0.9438611747098823,\n",
       " 0.9530815709761615,\n",
       " 0.9049686731142921,\n",
       " 0.7954481564470861,\n",
       " 0.7343990750547442,\n",
       " 0.9545345165541393,\n",
       " 0.9731622100355664,\n",
       " 0.935942930494731,\n",
       " 0.9811529370610499,\n",
       " 0.9561236100387966,\n",
       " 0.172096337402465,\n",
       " 0.9335012710078789,\n",
       " 0.5952195254920354,\n",
       " 0.9452171425075881,\n",
       " 0.8142459178028092,\n",
       " 0.9746384357601722,\n",
       " 0.9435251996360051,\n",
       " 0.8987901324982002,\n",
       " 0.9775646050925954,\n",
       " 0.08442059016267578,\n",
       " 0.9460814130360857,\n",
       " 0.8771263718118543,\n",
       " 0.6878476498821782,\n",
       " 0.9447379518640737,\n",
       " 0.9349380257491511,\n",
       " 0.2376568847187619,\n",
       " 0.9275628480416547,\n",
       " 0.9522630087560182,\n",
       " 0.620501566967475,\n",
       " 0.9484547315114455,\n",
       " 0.8095654670538106,\n",
       " -0.4587587304757428,\n",
       " 0.955516993470828,\n",
       " 0.9805964045776845,\n",
       " 0.9302101597138405,\n",
       " 0.7049203657371016,\n",
       " 0.9552220036961137,\n",
       " 0.986442590959811,\n",
       " 0.9683988583220388,\n",
       " 0.949646863222007,\n",
       " 0.5820292757415202,\n",
       " 0.889289344113841,\n",
       " 0.8984763056614977,\n",
       " 0.9257763156465856,\n",
       " 0.9249879561161247,\n",
       " 0.9369375511884124,\n",
       " 0.9098550133168768,\n",
       " 0.939758834933507,\n",
       " 0.9326929729303802,\n",
       " 0.8921452853010171,\n",
       " 0.9802422090002245,\n",
       " 0.8823673776684842,\n",
       " 0.944399498713693,\n",
       " 0.9523869240702564,\n",
       " 0.9629905139487879,\n",
       " 0.9692475582282306,\n",
       " 0.9729657981253305,\n",
       " 0.8638557441615331,\n",
       " 0.6785775955430453,\n",
       " 0.9463069414502756,\n",
       " -0.19254746973818304,\n",
       " 0.21251149801692937,\n",
       " 0.9539994787541622,\n",
       " 0.862958264915779,\n",
       " 0.9674942892870083,\n",
       " 0.5227697380253545,\n",
       " 0.9414358408789592,\n",
       " 0.9586572531668838,\n",
       " 0.8984763056614975,\n",
       " 0.942553744466102,\n",
       " 0.8655857802750067,\n",
       " 0.9735979677767325,\n",
       " 0.971894847151695,\n",
       " 0.9064124979205291,\n",
       " 0.9529027868516445,\n",
       " -0.5679490473127573,\n",
       " 0.9238648831329839,\n",
       " 0.9295201127624273,\n",
       " 0.8375707578857436,\n",
       " 0.915655921237209,\n",
       " 0.9105180615607412,\n",
       " 0.9682805194801305,\n",
       " 0.6940667438887924,\n",
       " 0.8568764807882038,\n",
       " 0.933002492515289,\n",
       " 0.7204854644307579,\n",
       " 0.4902777898389573,\n",
       " 0.9609455797257599,\n",
       " 0.9517865544280207,\n",
       " 0.9679320366261233,\n",
       " 0.8967787869329518,\n",
       " 0.4610267608148042,\n",
       " 0.903251889129067,\n",
       " 0.965742291071755,\n",
       " 0.9569061778299638,\n",
       " 0.9414010783511295,\n",
       " 0.6675350421399688,\n",
       " 0.8823673776684845,\n",
       " 0.9044151344887812,\n",
       " 0.9462481279063648,\n",
       " 0.891457343609857,\n",
       " 0.8678409671657319,\n",
       " 0.9691770208038911,\n",
       " 0.9425503963382791,\n",
       " 0.5498333896017789,\n",
       " 0.9566082261647564,\n",
       " 0.9433563626653363,\n",
       " 0.9532613627383553,\n",
       " -1.1522860085781792,\n",
       " 0.9647580872821497,\n",
       " 0.5621134187380892,\n",
       " 0.7755691542155132,\n",
       " 0.4675611827860855,\n",
       " 0.9313867931096937,\n",
       " 0.8998211360820688,\n",
       " 0.8871438271067202,\n",
       " 0.8651533338635067,\n",
       " 0.9675679837547033,\n",
       " 0.977332494342516,\n",
       " 0.7750950359750743,\n",
       " 0.9479921999963232,\n",
       " 0.8590415270379785,\n",
       " 0.9231159719997741,\n",
       " 0.9586168988274295,\n",
       " 0.8419948819750024,\n",
       " 0.9535555885277693,\n",
       " 0.7657342636438951,\n",
       " -0.047551691280555364,\n",
       " 0.9600213311302024,\n",
       " 0.8771263718118543,\n",
       " 0.9176369321153257,\n",
       " 0.48426389534176095,\n",
       " 0.9252222805421058,\n",
       " 0.4241019544970007,\n",
       " 0.9751181907658877,\n",
       " 0.9404738482887542,\n",
       " 0.9528477757442693,\n",
       " 0.707054914938016,\n",
       " 0.9461033162035131,\n",
       " 0.9783079364053364,\n",
       " 0.9655988237884886,\n",
       " -7.173733156915469,\n",
       " 0.9241271841425847,\n",
       " 0.9649805545241541,\n",
       " 0.15887009945892905,\n",
       " 0.957360382874183,\n",
       " 0.8705308214074903,\n",
       " 0.9670063953930589,\n",
       " 0.8059878731602973,\n",
       " 0.49027778983895787,\n",
       " 0.9008624627467464,\n",
       " 0.9463932579329203,\n",
       " 0.966399340703484,\n",
       " 0.7164667395172448,\n",
       " 0.6876953694662019,\n",
       " 0.8712368539527817,\n",
       " 0.9569061778299637,\n",
       " 0.8900265642885198,\n",
       " 0.9168381649388664,\n",
       " 0.9509748155967608,\n",
       " 0.1082169794490655,\n",
       " 0.7959877962816464,\n",
       " 0.7616858908048578,\n",
       " 0.9392524686909735,\n",
       " 0.8711249041306868,\n",
       " 0.7439811713983736,\n",
       " 0.7765547299133588,\n",
       " -3.906801838500966,\n",
       " 0.9294963200678403,\n",
       " 0.9446831868627468,\n",
       " 0.9731413037021354,\n",
       " 0.913373136319868,\n",
       " 0.8344343111848544,\n",
       " 0.9470807304391125,\n",
       " 0.49049839534790096,\n",
       " 0.966058024181548,\n",
       " 0.9715183120563278,\n",
       " 0.8458874156068658,\n",
       " 0.9641844400804102,\n",
       " 0.791747545903057,\n",
       " 0.8126665879234736,\n",
       " 0.9000164247261467,\n",
       " 0.7797961615313982,\n",
       " 0.981804872817173,\n",
       " 0.8889832923824633,\n",
       " -0.6948317850811356,\n",
       " 0.8768979439969903,\n",
       " 0.923940064997222,\n",
       " 0.9629905139487879,\n",
       " 0.9005852593843424,\n",
       " 0.7722304575171883,\n",
       " 0.9424763876392844,\n",
       " 0.8802467451094078,\n",
       " 0.8771504313916872,\n",
       " 0.9187499579775633,\n",
       " 0.8593063698778487,\n",
       " 0.9220838925383872,\n",
       " 0.9656673461348733,\n",
       " -1.9612074606809675,\n",
       " 0.9590993498774757,\n",
       " 0.947625573343852,\n",
       " 0.9040667950108534,\n",
       " 0.9814728092404256,\n",
       " 0.9505849999810776,\n",
       " 0.953999478754162,\n",
       " -1.1810934397338992,\n",
       " 0.9042688805844641,\n",
       " 0.6860957386591509,\n",
       " 0.9616145694173516,\n",
       " 0.7872426261063725,\n",
       " 0.9811529370610499,\n",
       " 0.7905249977206081,\n",
       " 0.9750787852409513,\n",
       " 0.7230078546718739,\n",
       " 0.8568764807882038,\n",
       " 0.8817595258759472,\n",
       " 0.620501566967475,\n",
       " 0.9751518230164514,\n",
       " 0.9493166100485221,\n",
       " 0.9561324505475817,\n",
       " 0.8979509322692506,\n",
       " 0.8859071350368938,\n",
       " 0.929969688119281,\n",
       " 0.3355199279175306,\n",
       " 0.9679320366261231,\n",
       " 0.9368829489017452,\n",
       " 0.9615014814487243,\n",
       " 0.9042983693027132,\n",
       " 0.9295201127624272,\n",
       " 0.58280895079038,\n",
       " 0.5118801405936387,\n",
       " 0.9510325832125542,\n",
       " 0.9655122153228957,\n",
       " 0.9117545791909374,\n",
       " 0.9143139732084994,\n",
       " 0.9700156404108291,\n",
       " 0.9850469608078657,\n",
       " 0.8771263718118548,\n",
       " 0.8058349527607458,\n",
       " 0.9609455797257599,\n",
       " 0.9475509227035973,\n",
       " 0.9627900523756213,\n",
       " 0.9680813506804941,\n",
       " 0.9368821748457677,\n",
       " 0.9583160878749659,\n",
       " 0.8301734883323174,\n",
       " 0.8189959695301623,\n",
       " 0.9642289557159718,\n",
       " 0.8945107170033714,\n",
       " 0.9438536472914196,\n",
       " 0.9680553978215191,\n",
       " 0.6403262497042697,\n",
       " 0.9516602206988006,\n",
       " 0.7512945223459392,\n",
       " 0.9447379518640739,\n",
       " 0.971586181941249,\n",
       " 0.9435251996360052,\n",
       " 0.9155714109328283,\n",
       " 0.5882937435009776,\n",
       " 0.9428814638133619,\n",
       " 0.6121824158799535,\n",
       " 0.9244278391687923,\n",
       " 0.7062578271845869,\n",
       " 0.9292621335825222,\n",
       " 0.8886949025351533,\n",
       " 0.9764246161290429,\n",
       " 0.9302298018206606,\n",
       " 0.8832204323410296,\n",
       " 0.9742889377607638,\n",
       " 0.791747545903057,\n",
       " 0.9367398737531816,\n",
       " -4.972811443368046,\n",
       " 0.939758834933507,\n",
       " -0.21314351517632146,\n",
       " 0.6528567662393728,\n",
       " -0.08477992844446303,\n",
       " 0.909133115735427,\n",
       " 0.23076451507108753,\n",
       " 0.9817432587021059,\n",
       " 0.32930504158010054,\n",
       " 0.9608085676011068,\n",
       " 0.9433563626653363,\n",
       " 0.9728186457740422,\n",
       " 0.6876953694661996,\n",
       " 0.40795340939082825,\n",
       " 0.6302240096035607,\n",
       " 0.9632642186484477,\n",
       " 0.220797556791254,\n",
       " 0.12905141687623733,\n",
       " 0.913138197667036,\n",
       " 0.5631490255431273,\n",
       " 0.9434260644981505,\n",
       " 0.771691212455342,\n",
       " 0.8257971416221062,\n",
       " -1.440308706588132,\n",
       " 0.6471194315823476,\n",
       " 0.5302489837291225,\n",
       " 0.9136160369544585,\n",
       " 0.9542399766846632,\n",
       " 0.8540501037419006,\n",
       " 0.7765547299133586,\n",
       " 0.8893833321428968,\n",
       " 0.8507690103369725,\n",
       " 0.963772004391757,\n",
       " 0.9367398737531816,\n",
       " 0.8607968125735385,\n",
       " -0.9582188824594238,\n",
       " 0.9175553565895643,\n",
       " 0.9527979814632764,\n",
       " 0.8344343111848544,\n",
       " 0.9286423198145455,\n",
       " -5.34514756737834,\n",
       " 0.9803707757474629,\n",
       " 0.9326929729303801,\n",
       " 0.9170079518107058,\n",
       " 0.9714096567806726,\n",
       " 0.5794969152980269,\n",
       " 0.92954030934801,\n",
       " 0.9431279754086316,\n",
       " 0.8755705831278696,\n",
       " 0.42355068955708064,\n",
       " 0.9073942618450098,\n",
       " 0.8814749880994944,\n",
       " 0.9709917972487382,\n",
       " 0.9591980740263798,\n",
       " 0.5958729178362352,\n",
       " 0.93733543247232,\n",
       " 0.8764631885755717,\n",
       " 0.9729072257226822,\n",
       " 0.7411332536034603,\n",
       " 0.9715183120563278,\n",
       " 0.8340141347285276,\n",
       " 0.866647699067833,\n",
       " 0.8454182173112497,\n",
       " -0.5040513106748357,\n",
       " 0.9621860197489864,\n",
       " 0.9521524412313896,\n",
       " 0.9668464837804621,\n",
       " 0.9370518952182012,\n",
       " 0.840558579900438,\n",
       " 0.8651533338635068,\n",
       " 0.9656673461348733,\n",
       " 0.9461158936127614,\n",
       " ...]"
      ]
     },
     "execution_count": 49,
     "metadata": {},
     "output_type": "execute_result"
    }
   ],
   "source": [
    "acc_list=[]\n",
    "for i in range(10000):\n",
    "    xtrain_new,xtest_new,ytrain_new,ytest_new = train_test_split(x,y,train_size=0.9,random_state=i)\n",
    "    model1 = LinearRegression()\n",
    "    model1.fit(xtrain_new,ytrain_new)\n",
    "    new_accuracy = model1.score(xtest_new,ytest_new)\n",
    "    acc_list.append(new_accuracy)\n",
    "        \n",
    "acc_list"
   ]
  },
  {
   "cell_type": "code",
   "execution_count": 50,
   "id": "1838d77d",
   "metadata": {},
   "outputs": [
    {
     "data": {
      "text/plain": [
       "0.9902495698647099"
      ]
     },
     "execution_count": 50,
     "metadata": {},
     "output_type": "execute_result"
    }
   ],
   "source": [
    "np.max(acc_list)"
   ]
  },
  {
   "cell_type": "code",
   "execution_count": 52,
   "id": "04708b7e",
   "metadata": {},
   "outputs": [
    {
     "name": "stdout",
     "output_type": "stream",
     "text": [
      "The maximum accuracy is obtained with the seed value of : 6164\n"
     ]
    }
   ],
   "source": [
    "print(\"The maximum accuracy is obtained with the seed value of :\", np.argmax(acc_list))"
   ]
  },
  {
   "cell_type": "markdown",
   "id": "2f5d36cf",
   "metadata": {},
   "source": [
    "# Again training the model with random seed as 6164"
   ]
  },
  {
   "cell_type": "code",
   "execution_count": 75,
   "id": "b3e993fd",
   "metadata": {},
   "outputs": [
    {
     "name": "stdout",
     "output_type": "stream",
     "text": [
      "The accuracy after opitmization was found to be : 0.9902495698647099\n"
     ]
    }
   ],
   "source": [
    "x_train_new, x_test_new, y_train_new, y_test_new = train_test_split(x,y, train_size=0.9, random_state=6164)\n",
    "model1 = LinearRegression()\n",
    "model1.fit(x_train_new, y_train_new)\n",
    "print(\"The accuracy after opitmization was found to be :\", model1.score( x_test_new, y_test_new))"
   ]
  },
  {
   "cell_type": "code",
   "execution_count": 77,
   "id": "c228b8db",
   "metadata": {},
   "outputs": [
    {
     "name": "stdout",
     "output_type": "stream",
     "text": [
      "Mean Squared Error: 2.078065727739954\n"
     ]
    }
   ],
   "source": [
    "y_pred_new=model1.predict(x_test_new)\n",
    "print(\"Mean Squared Error:\",\n",
    "      mean_squared_error(y_test_new, y_pred_new,squared=False))\n"
   ]
  },
  {
   "cell_type": "markdown",
   "id": "2ea0e91b",
   "metadata": {},
   "source": [
    "# Hence, 99.02% accuracy has been obtained after optimization"
   ]
  },
  {
   "cell_type": "markdown",
   "id": "9a8c9da5",
   "metadata": {},
   "source": [
    "# "
   ]
  },
  {
   "cell_type": "markdown",
   "id": "d6ec6857",
   "metadata": {},
   "source": [
    "## Question - Predicted score if student studies 9.25 hrs/day ?"
   ]
  },
  {
   "cell_type": "code",
   "execution_count": 55,
   "id": "7886717b",
   "metadata": {},
   "outputs": [],
   "source": [
    "import joblib"
   ]
  },
  {
   "cell_type": "code",
   "execution_count": 56,
   "id": "bc566746",
   "metadata": {},
   "outputs": [
    {
     "data": {
      "text/plain": [
       "['Marks_Predictor.pkl']"
      ]
     },
     "execution_count": 56,
     "metadata": {},
     "output_type": "execute_result"
    }
   ],
   "source": [
    "joblib.dump(model1,\"Marks_Predictor.pkl\")"
   ]
  },
  {
   "cell_type": "code",
   "execution_count": 58,
   "id": "f8b031a8",
   "metadata": {},
   "outputs": [],
   "source": [
    "my_model = joblib.load('Marks_Predictor.pkl')"
   ]
  },
  {
   "cell_type": "code",
   "execution_count": 59,
   "id": "806f26f3",
   "metadata": {},
   "outputs": [
    {
     "name": "stdout",
     "output_type": "stream",
     "text": [
      "Hence for 9.25 hours of study marks obtained will be: [93.19838345]\n"
     ]
    }
   ],
   "source": [
    "predicted_marks = my_model.predict([[9.25]])[0]\n",
    "print(\"Hence for 9.25 hours of study marks obtained will be:\",predicted_marks)"
   ]
  },
  {
   "cell_type": "markdown",
   "id": "c5583e77",
   "metadata": {},
   "source": [
    "# Predicted Score - 93.198"
   ]
  },
  {
   "cell_type": "code",
   "execution_count": null,
   "id": "0756823d",
   "metadata": {},
   "outputs": [],
   "source": []
  }
 ],
 "metadata": {
  "kernelspec": {
   "display_name": "Python 3",
   "language": "python",
   "name": "python3"
  },
  "language_info": {
   "codemirror_mode": {
    "name": "ipython",
    "version": 3
   },
   "file_extension": ".py",
   "mimetype": "text/x-python",
   "name": "python",
   "nbconvert_exporter": "python",
   "pygments_lexer": "ipython3",
   "version": "3.8.8"
  }
 },
 "nbformat": 4,
 "nbformat_minor": 5
}
